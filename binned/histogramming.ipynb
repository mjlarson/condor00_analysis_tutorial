{
 "cells": [
  {
   "cell_type": "code",
   "execution_count": 16,
   "metadata": {},
   "outputs": [],
   "source": [
    "import os, sys, glob\n",
    "import numpy as np\n",
    "import matplotlib\n",
    "from matplotlib import pyplot as plt\n",
    "\n",
    "from utils import prepare_simulation, prepare_data"
   ]
  },
  {
   "cell_type": "code",
   "execution_count": 17,
   "metadata": {},
   "outputs": [],
   "source": [
    "source_ra = 77.358 # degrees\n",
    "source_dec = 5.693 # degrees"
   ]
  },
  {
   "cell_type": "code",
   "execution_count": 18,
   "metadata": {},
   "outputs": [],
   "source": [
    "sim = prepare_simulation(source_ra, source_dec, # degrees\n",
    "                           window = 5, # degrees\n",
    "                           E0 = 1000, # GeV,\n",
    "                           gamma = 2,\n",
    "                           time_mean = 57000,\n",
    "                           time_sigma = 100,\n",
    "                           simfile = \"/data/mjlarson/datasets/ps_tracks/version-003-p02/IC86_2012_MC.npy\")"
   ]
  },
  {
   "cell_type": "code",
   "execution_count": 19,
   "metadata": {},
   "outputs": [],
   "source": [
    "# And grab the data\n",
    "data = prepare_data()"
   ]
  },
  {
   "cell_type": "code",
   "execution_count": null,
   "metadata": {},
   "outputs": [],
   "source": []
  },
  {
   "cell_type": "markdown",
   "metadata": {},
   "source": [
    "# Make your histograms. \n",
    "\n",
    "We'll use ra and dec binning here..."
   ]
  },
  {
   "cell_type": "code",
   "execution_count": 20,
   "metadata": {},
   "outputs": [
    {
     "data": {
      "text/plain": [
       "Text(0.5, 1.0, 'Data')"
      ]
     },
     "execution_count": 20,
     "metadata": {},
     "output_type": "execute_result"
    },
    {
     "data": {
      "image/png": "[encoded data removed]",
      "text/plain": [
       "<Figure size 432x288 with 2 Axes>"
      ]
     },
     "metadata": {
      "needs_background": "light"
     },
     "output_type": "display_data"
    }
   ],
   "source": [
    "ra_bins = np.radians(np.linspace(source_ra-5, source_ra+5, 21))\n",
    "dec_bins = np.radians(np.linspace(source_dec-5, source_dec+5, 21))\n",
    "\n",
    "# And let's make some histograms!\n",
    "fig, ax = plt.subplots()\n",
    "data_hist, _, _, patches = ax.hist2d(data['ra'], data['dec'],\n",
    "                                     bins = (ra_bins, dec_bins))\n",
    "plt.colorbar(patches, ax=ax)\n",
    "ax.set_xlabel(\"RA (rad)\")\n",
    "ax.set_ylabel(\"Dec (rad)\")\n",
    "ax.set_title(\"Data\")"
   ]
  },
  {
   "cell_type": "code",
   "execution_count": 21,
   "metadata": {},
   "outputs": [
    {
     "data": {
      "text/plain": [
       "Text(0.5, 1.0, 'Simulated Source')"
      ]
     },
     "execution_count": 21,
     "metadata": {},
     "output_type": "execute_result"
    },
    {
     "data": {
      "image/png": "[encoded data removed]",
      "text/plain": [
       "<Figure size 432x288 with 2 Axes>"
      ]
     },
     "metadata": {
      "needs_background": "light"
     },
     "output_type": "display_data"
    }
   ],
   "source": [
    "# And the same for simulation. Here, we need weights of some kind to\n",
    "# tell us how often we expect to see each simulation event. We'll use\n",
    "# the 'probability_weight' key here to give us a probability per bin.\n",
    "fig, ax = plt.subplots()\n",
    "signal_hist, _, _, patches = ax.hist2d(sim['ra'], sim['dec'],\n",
    "                                       bins = (ra_bins, dec_bins),\n",
    "                                       weights=sim['probability_weight'])\n",
    "plt.colorbar(patches, ax=ax)\n",
    "ax.set_xlabel(\"RA (rad)\")\n",
    "ax.set_ylabel(\"Dec (rad)\")\n",
    "ax.set_title(\"Simulated Source\")"
   ]
  },
  {
   "cell_type": "markdown",
   "metadata": {},
   "source": [
    "# What about background?\n",
    "\n",
    "We'll also make a background histogram. This isn't terribly difficult to do, \n",
    "but it needs some explanation. First, we assume that our dataset is \n",
    "background-dominated. This is likely true: we see about 100,000 events/year \n",
    "while expecting << 1000 astrophysical neutrino events per year.\n",
    "\n",
    "We also assume the background (atmospheric muons) are time-independent. This is \n",
    "not exactly true (rates vary by ~10% over a year), but it's pretty close. \n",
    "\n",
    "The right ascension (RA) values are calculated using a combination of the observed\n",
    "azimuth of events crossing the detector and the time at which they were observed.\n",
    "If we assume that the background is time-independent, then this converts to an \n",
    "assumption that the background events are uniformly distributed in RA. \n",
    "\n",
    "We can take advantage of our background-dominated and RA-uniformity assumptions\n",
    "to build a PDF of our background. To do this, we'll take the distribution of events\n",
    "in declination, scale it down by the total number of events in the histogram to get a\n",
    "probability-per-declination bin. We divide by the number of `ra_bins` (less one, since\n",
    "the array specifies the boundaries of the bins instead of centers) and reshape."
   ]
  },
  {
   "cell_type": "code",
   "execution_count": 22,
   "metadata": {},
   "outputs": [
    {
     "name": "stdout",
     "output_type": "stream",
     "text": [
      "1.0 0.9835437333960666\n"
     ]
    },
    {
     "name": "stderr",
     "output_type": "stream",
     "text": [
      "<ipython-input-22-b19ddfac63af>:9: MatplotlibDeprecationWarning: shading='flat' when X and Y have the same dimensions as C is deprecated since 3.3.  Either specify the corners of the quadrilaterals with X and Y, or pass shading='auto', 'nearest' or 'gouraud', or set rcParams['pcolor.shading'].  This will become an error two minor releases later.\n",
      "  cmesh = ax.pcolormesh(ra_bins[:-1], dec_bins[:-1],\n"
     ]
    },
    {
     "data": {
      "text/plain": [
       "Text(0, 0.5, 'Dec (rad)')"
      ]
     },
     "execution_count": 22,
     "metadata": {},
     "output_type": "execute_result"
    },
    {
     "data": {
      "image/png": "[encoded data removed]",
      "text/plain": [
       "<Figure size 432x288 with 2 Axes>"
      ]
     },
     "metadata": {
      "needs_background": "light"
     },
     "output_type": "display_data"
    }
   ],
   "source": [
    "bg_hist = np.histogram(data['dec'], bins=dec_bins)[0] \n",
    "bg_hist = bg_hist/bg_hist.sum() / (len(ra_bins)-1)\n",
    "bg_hist = bg_hist[None, :]*np.ones_like(data_hist)\n",
    "\n",
    "print(bg_hist.sum(), signal_hist.sum())\n",
    "\n",
    "# Plot it\n",
    "fig, ax = plt.subplots()\n",
    "cmesh = ax.pcolormesh(ra_bins[:-1], dec_bins[:-1],\n",
    "                      bg_hist.T) # note the transpose here\n",
    "\n",
    "plt.colorbar(cmesh, ax=ax)\n",
    "ax.set_xlabel(\"RA (rad)\")\n",
    "ax.set_ylabel(\"Dec (rad)\")"
   ]
  },
  {
   "cell_type": "code",
   "execution_count": null,
   "metadata": {},
   "outputs": [],
   "source": []
  },
  {
   "cell_type": "code",
   "execution_count": null,
   "metadata": {},
   "outputs": [],
   "source": []
  },
  {
   "cell_type": "code",
   "execution_count": null,
   "metadata": {},
   "outputs": [],
   "source": []
  },
  {
   "cell_type": "code",
   "execution_count": null,
   "metadata": {},
   "outputs": [],
   "source": []
  }
 ],
 "metadata": {
  "kernelspec": {
   "display_name": "Python 3",
   "language": "python",
   "name": "python3"
  },
  "language_info": {
   "codemirror_mode": {
    "name": "ipython",
    "version": 3
   },
   "file_extension": ".py",
   "mimetype": "text/x-python",
   "name": "python",
   "nbconvert_exporter": "python",
   "pygments_lexer": "ipython3",
   "version": "3.8.6"
  }
 },
 "nbformat": 4,
 "nbformat_minor": 4
}
