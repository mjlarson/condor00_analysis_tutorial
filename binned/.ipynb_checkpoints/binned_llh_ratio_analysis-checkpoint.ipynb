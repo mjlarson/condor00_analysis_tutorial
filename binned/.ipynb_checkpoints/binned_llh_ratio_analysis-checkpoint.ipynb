{
 "cells": [
  {
   "cell_type": "code",
   "execution_count": 17,
   "metadata": {},
   "outputs": [],
   "source": [
    "import os, sys, glob\n",
    "import numpy as np\n",
    "from numba import njit\n",
    "import matplotlib\n",
    "from matplotlib import pyplot as plt\n",
    "from scipy.optimize import minimize\n",
    "\n",
    "from tqdm.notebook import tqdm\n",
    "\n",
    "from utils import prepare_simulation, prepare_data"
   ]
  },
  {
   "cell_type": "code",
   "execution_count": 18,
   "metadata": {},
   "outputs": [],
   "source": [
    "source_ra = 77.358 # degrees\n",
    "source_dec = 5.693 # degrees\n",
    "\n",
    "ra_bins = np.radians(np.linspace(72, 82, 21))\n",
    "dec_bins = np.radians(np.linspace(0, 10, 21))"
   ]
  },
  {
   "cell_type": "code",
   "execution_count": 19,
   "metadata": {},
   "outputs": [],
   "source": [
    "sim = prepare_simulation(source_ra, source_dec, # degrees\n",
    "                           window = 5, # degrees\n",
    "                           E0 = 1000, # GeV,\n",
    "                           gamma = 2,\n",
    "                           time_mean = 57000,\n",
    "                           time_sigma = 100,\n",
    "                           simfile = \"/data/mjlarson/datasets/ps_tracks/version-003-p02/IC86_2012_MC.npy\")"
   ]
  },
  {
   "cell_type": "code",
   "execution_count": 4,
   "metadata": {},
   "outputs": [],
   "source": [
    "# And grab the data\n",
    "data = prepare_data()"
   ]
  },
  {
   "cell_type": "code",
   "execution_count": null,
   "metadata": {},
   "outputs": [],
   "source": []
  },
  {
   "cell_type": "markdown",
   "metadata": {},
   "source": [
    "# Make your histograms. \n",
    "\n",
    "We'll use ra and dec binning here..."
   ]
  },
  {
   "cell_type": "code",
   "execution_count": 5,
   "metadata": {},
   "outputs": [],
   "source": [
    "# We're going to use np.histogram2d instead of pyplot.hist2d\n",
    "# since we don't need to look at the plots...\n",
    "data_hist, _, _ = np.histogram2d(data['ra'], data['dec'],\n",
    "                                 bins = (ra_bins, dec_bins))\n",
    "signal_hist, _, _ = np.histogram2d(sim['ra'], sim['dec'],\n",
    "                                   bins = (ra_bins, dec_bins),\n",
    "                                   weights=sim['probability_weight'])\n",
    "\n",
    "bg_hist = np.histogram(data['dec'], bins=dec_bins)[0] \n",
    "bg_hist = bg_hist/bg_hist.sum() / (len(ra_bins)-1)\n",
    "bg_hist = bg_hist[None, :]*np.ones_like(data_hist)"
   ]
  },
  {
   "cell_type": "code",
   "execution_count": null,
   "metadata": {},
   "outputs": [],
   "source": []
  },
  {
   "cell_type": "markdown",
   "metadata": {},
   "source": [
    "# Something slightly different...\n",
    "\n",
    "We believe our data histogram $k$ is some combination of the signal histogram $S$ and background histogram $B$ so that\n",
    "\n",
    "> $k = (\\hat{N}_b * B) + (\\hat{N}_s * S)$\n",
    "   \n",
    "This doesn't give us the full story, however. This just gives us the best \n",
    "values for the fit. What we care about is very slightly different, though: \n",
    "how much *better* is the fit if we include signal? \n",
    "\n",
    "We can get an estimate of the improvement by calculating two $\\chi^2$ values \n",
    "instead of one. Labeling the expected number of events $\\lambda(N_b, N_s)$ \n",
    "and the observed data as $k$, \n",
    "\n",
    "> $\\chi^2(N_b, N_s) = \\frac{\\left(\\lambda(N_b, N_s) - k\\right)^2}{\\lambda(N_b, N_s)}$\n",
    "\n",
    "and the $\\chi^2$ with no signal is given by \n",
    "> $\\chi^2(N'_b, N_s=0) = \\frac{\\left(\\lambda(N'_b, N_s=0) - k\\right)^2}{\\lambda(N'_b, N_s=0)}$\n",
    "\n",
    "We can then take the difference to see what the improvement in $\\chi^2$ is \n",
    "from adding signal events to our model.\n",
    "\n",
    "> $\\Delta \\chi^2 = \\chi^2(N'_b, N_s=0) - \\chi^2(N_b, N_s)$\n",
    "\n",
    "Let's try returning that instead of $N_s$ as our test statistic."
   ]
  },
  {
   "cell_type": "code",
   "execution_count": 6,
   "metadata": {},
   "outputs": [],
   "source": [
    "def expectation(N, bg_hist,\n",
    "                N_s, signal_hist):\n",
    "    return (N-N_s)*bg_hist + N_s*signal_hist"
   ]
  },
  {
   "cell_type": "code",
   "execution_count": 7,
   "metadata": {},
   "outputs": [],
   "source": [
    "def chi2(data_hist, \n",
    "         N_b, bg_hist, \n",
    "         N_s, signal_hist):\n",
    "    exp_hist = expectation(N_b, bg_hist, \n",
    "                           N_s, signal_hist)\n",
    "    \n",
    "    with np.errstate(divide='ignore'):\n",
    "        per_bin_chi2 = ((data_hist-exp_hist)**2 / exp_hist)\n",
    "        per_bin_chi2[~np.isfinite(per_bin_chi2)] = 0\n",
    "    return per_bin_chi2.sum()"
   ]
  },
  {
   "cell_type": "code",
   "execution_count": 8,
   "metadata": {},
   "outputs": [
    {
     "name": "stderr",
     "output_type": "stream",
     "text": [
      "/opt/conda/lib/python3.8/site-packages/scipy/optimize/_numdiff.py:519: RuntimeWarning: invalid value encountered in true_divide\n",
      "  J_transposed[i] = df / dx\n"
     ]
    }
   ],
   "source": [
    "# And we do the fit using scipy\n",
    "fit_func = lambda params: chi2(data_hist=data_hist, \n",
    "                               N_b=params[0], bg_hist=bg_hist,\n",
    "                               N_s=params[1], signal_hist=signal_hist)\n",
    "\n",
    "results_with = minimize(fit_func, \n",
    "                        x0 = [data_hist.sum(), 0.0],\n",
    "                        bounds = [[0.9*data_hist.sum(), 1.1*data_hist.sum()], \n",
    "                                  [0, 1000]])\n",
    "\n",
    "results_without = minimize(fit_func, \n",
    "                        x0 = [data_hist.sum(), 0.0],\n",
    "                        bounds = [[0.9*data_hist.sum(), 1.1*data_hist.sum()], \n",
    "                                  [0, 0]])"
   ]
  },
  {
   "cell_type": "code",
   "execution_count": null,
   "metadata": {},
   "outputs": [],
   "source": []
  },
  {
   "cell_type": "markdown",
   "metadata": {},
   "source": [
    "# Take a look at the output numbers\n",
    "\n",
    "We've fit a value now: N_s. Let's take a look at our best fit values out of the `scipy.optimize.minimize` function."
   ]
  },
  {
   "cell_type": "code",
   "execution_count": 9,
   "metadata": {},
   "outputs": [
    {
     "name": "stdout",
     "output_type": "stream",
     "text": [
      "Found a best-fit of 37.814177375369894 signal events\n",
      "Final chi2 value: 25.93822620674166\n"
     ]
    }
   ],
   "source": [
    "#print(results)\n",
    "data_bestfit_delta_chi2 = results_without.fun - results_with.fun\n",
    "data_bestfit_N_s = results_with.x[1]\n",
    "\n",
    "print(f\"Found a best-fit of {data_bestfit_N_s} signal events\")\n",
    "print(f\"Final chi2 value: {data_bestfit_delta_chi2}\")"
   ]
  },
  {
   "cell_type": "code",
   "execution_count": null,
   "metadata": {},
   "outputs": [],
   "source": []
  },
  {
   "cell_type": "markdown",
   "metadata": {},
   "source": [
    "# Is this good?\n",
    "\n",
    "We found some signal events again and have a new TS. Is this significant? To\n",
    "find out, we need to go through the same steps as last time, producing a TS\n",
    "distribution from background trials to compare to our data TS."
   ]
  },
  {
   "cell_type": "code",
   "execution_count": 10,
   "metadata": {},
   "outputs": [],
   "source": [
    "def make_bg_trial_hist(N=data_hist.sum(), bg_hist=bg_hist):\n",
    "    return np.random.poisson(N*bg_hist)"
   ]
  },
  {
   "cell_type": "code",
   "execution_count": 14,
   "metadata": {},
   "outputs": [],
   "source": [
    "def get_ts_values(data, \n",
    "                  bg_hist,\n",
    "                  signal_hist,\n",
    "                  bins,\n",
    "                  n_trials):\n",
    "    ts_values = []\n",
    "    for i in tqdm(range(n_trials)):\n",
    "        trial_hist = make_bg_trial_hist(N=data_hist.sum(), bg_hist=bg_hist)\n",
    "        fit_func = lambda params: chi2(data_hist=trial_hist, \n",
    "                                       N_b=params[0], bg_hist=bg_hist,\n",
    "                                       N_s=params[1], signal_hist=signal_hist)\n",
    "        results_with = minimize(fit_func, \n",
    "                                x0 = [trial_hist.sum(), 0.0],\n",
    "                                bounds = [[0.9*trial_hist.sum(), 1.1*trial_hist.sum()], \n",
    "                                          [0, 1000]])\n",
    "\n",
    "        results_without = minimize(fit_func, \n",
    "                                x0 = [trial_hist.sum(), 0.0],\n",
    "                                bounds = [[0.9*trial_hist.sum(), 1.1*trial_hist.sum()], \n",
    "                                          [0, 0]])\n",
    "\n",
    "        ts_values.append(results_without.fun - results_with.fun)\n",
    "        \n",
    "    return np.array(ts_values)\n"
   ]
  },
  {
   "cell_type": "code",
   "execution_count": 15,
   "metadata": {},
   "outputs": [
    {
     "data": {
      "application/vnd.jupyter.widget-view+json": {
       "model_id": "9f797d8148054278ac6ba0fed5bfd083",
       "version_major": 2,
       "version_minor": 0
      },
      "text/plain": [
       "HBox(children=(HTML(value=''), FloatProgress(value=0.0, max=10000.0), HTML(value='')))"
      ]
     },
     "metadata": {},
     "output_type": "display_data"
    },
    {
     "name": "stderr",
     "output_type": "stream",
     "text": [
      "/opt/conda/lib/python3.8/site-packages/scipy/optimize/_numdiff.py:519: RuntimeWarning: invalid value encountered in true_divide\n",
      "  J_transposed[i] = df / dx\n"
     ]
    },
    {
     "name": "stdout",
     "output_type": "stream",
     "text": [
      "\n"
     ]
    }
   ],
   "source": [
    "bg_trial_ts_values = get_ts_values(data = data, \n",
    "                                   bg_hist = bg_hist,\n",
    "                                   signal_hist = signal_hist,\n",
    "                                   bins = (ra_bins, dec_bins),\n",
    "                                   n_trials = 10000)"
   ]
  },
  {
   "cell_type": "code",
   "execution_count": 16,
   "metadata": {},
   "outputs": [
    {
     "name": "stdout",
     "output_type": "stream",
     "text": [
      "Our data fit has a pvalue = 1.000e-04\n",
      "Alternatively, we see 1.0/10000 background trials more significant than the data.\n"
     ]
    },
    {
     "data": {
      "text/plain": [
       "Text(0, 0.5, 'Number of trials')"
      ]
     },
     "execution_count": 16,
     "metadata": {},
     "output_type": "execute_result"
    },
    {
     "data": {
      "image/png": "[encoded data removed]",
      "text/plain": [
       "<Figure size 432x288 with 1 Axes>"
      ]
     },
     "metadata": {
      "needs_background": "light"
     },
     "output_type": "display_data"
    }
   ],
   "source": [
    "# Print out how rare our best-fit value is in the background distribution!\n",
    "# This is where we find out how significant our result is!\n",
    "frac_trials_above_data = (bg_trial_ts_values >= data_bestfit_delta_chi2).sum() / len(bg_trial_ts_values)\n",
    "print(f\"Our data fit has a pvalue = {frac_trials_above_data:4.3e}\")\n",
    "print(f\"Alternatively, we see {len(bg_trial_ts_values)*frac_trials_above_data}/{len(bg_trial_ts_values)}\"\n",
    "      \" background trials more significant than the data.\")\n",
    "\n",
    "# And plot them along with our original data TS value.\n",
    "fig, ax = plt.subplots()\n",
    "_ = ax.hist(bg_trial_ts_values, \n",
    "            bins = 50,\n",
    "            histtype='stepfilled',\n",
    "            linewidth=3,\n",
    "            label = 'BG Trials')\n",
    "\n",
    "# And draw our data TS value.\n",
    "ax.axvline(data_bestfit_delta_chi2,\n",
    "           color='k',\n",
    "           label=\"Bestfit from Data\"\n",
    "          )\n",
    "\n",
    "# Make it look nicer.\n",
    "ax.legend(loc='upper center', ncol=2, fontsize=12, framealpha=1)\n",
    "ax.grid(alpha=0.1)\n",
    "ax.set_yscale('log')\n",
    "ax.set_xlabel(r\"$\\Delta\\chi^2$\", fontsize=12)\n",
    "ax.set_ylabel(\"Number of trials\", fontsize=12)"
   ]
  },
  {
   "cell_type": "code",
   "execution_count": 41,
   "metadata": {},
   "outputs": [],
   "source": []
  },
  {
   "cell_type": "code",
   "execution_count": null,
   "metadata": {},
   "outputs": [],
   "source": []
  },
  {
   "cell_type": "code",
   "execution_count": null,
   "metadata": {},
   "outputs": [],
   "source": []
  },
  {
   "cell_type": "code",
   "execution_count": null,
   "metadata": {},
   "outputs": [],
   "source": []
  },
  {
   "cell_type": "code",
   "execution_count": null,
   "metadata": {},
   "outputs": [],
   "source": []
  },
  {
   "cell_type": "code",
   "execution_count": null,
   "metadata": {},
   "outputs": [],
   "source": []
  },
  {
   "cell_type": "code",
   "execution_count": null,
   "metadata": {},
   "outputs": [],
   "source": []
  },
  {
   "cell_type": "markdown",
   "metadata": {},
   "source": []
  }
 ],
 "metadata": {
  "kernelspec": {
   "display_name": "Python 3",
   "language": "python",
   "name": "python3"
  },
  "language_info": {
   "codemirror_mode": {
    "name": "ipython",
    "version": 3
   },
   "file_extension": ".py",
   "mimetype": "text/x-python",
   "name": "python",
   "nbconvert_exporter": "python",
   "pygments_lexer": "ipython3",
   "version": "3.8.6"
  }
 },
 "nbformat": 4,
 "nbformat_minor": 4
}
