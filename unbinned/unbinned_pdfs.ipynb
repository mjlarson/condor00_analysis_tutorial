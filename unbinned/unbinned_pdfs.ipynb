{
 "cells": [
  {
   "cell_type": "code",
   "execution_count": 109,
   "metadata": {},
   "outputs": [],
   "source": [
    "import os, sys, glob\n",
    "import numpy as np\n",
    "from numba import njit\n",
    "import matplotlib\n",
    "from matplotlib import pyplot as plt\n",
    "from scipy.optimize import minimize\n",
    "\n",
    "from tqdm.notebook import tqdm\n",
    "\n",
    "from utils import prepare_simulation, prepare_data, interp_hist, angular_distance"
   ]
  },
  {
   "cell_type": "code",
   "execution_count": 110,
   "metadata": {},
   "outputs": [],
   "source": [
    "source_ra = 40.67 # degrees\n",
    "source_dec =-0.003 # degrees"
   ]
  },
  {
   "cell_type": "code",
   "execution_count": 111,
   "metadata": {},
   "outputs": [],
   "source": [
    "# Gather the simulated events\n",
    "sim = prepare_simulation(source_ra, source_dec, # degrees\n",
    "                           window = 5, # degrees\n",
    "                           E0 = 1000, # GeV,\n",
    "                           gamma = 2,\n",
    "                           time_mean = 57000,\n",
    "                           time_sigma = 100,\n",
    "                           simfile = \"/data/mjlarson/datasets/ps_tracks/version-004-p00/IC86_2016_MC.npy\")"
   ]
  },
  {
   "cell_type": "code",
   "execution_count": 4,
   "metadata": {},
   "outputs": [],
   "source": [
    "# And grab the data\n",
    "data = prepare_data()"
   ]
  },
  {
   "cell_type": "code",
   "execution_count": null,
   "metadata": {},
   "outputs": [],
   "source": []
  },
  {
   "cell_type": "markdown",
   "metadata": {},
   "source": [
    "# Moving out of binned histograms\n",
    "The previous examples have relied on binned histograms. There's good reasons to \n",
    "use them sometimes (they're easy to work with and can lead to significantly faster\n",
    "fitting (especially if $N_events >> N_bins$, like you get in gamma rays). There is\n",
    "a method that's more sensitive in general, though. Let's go back to the beginning.\n",
    "\n",
    "We believe our data histogram $k$ is some combination of the signal histogram $S$ \n",
    "and background histogram $B$ so that\n",
    "\n",
    "> $k = (\\hat{N}_b * B) + (\\hat{N}_s * S)$\n",
    "\n",
    "We'll take this a step further and define the likelihood as the ratio of the expected \n",
    "value to the data\n",
    "\n",
    "> $\\mathcal{L}(N_b, N_s) = (\\frac{N_b}{N} * B) + (\\frac{N_s}{N} * S)$\n",
    "\n",
    "Like in the last example with a $\\Delta\\chi^2$, we want to compare likelihood values\n",
    "both with and without signal. In this case, we'll take the ratio between the two:\n",
    "\n",
    "> $\\mathcal{L}(N_b N_S)/\\mathcal{L}(N'_b, N_S=0) = ((\\frac{N_b}{N} * B) + (\\frac{N_s}{N} * S))$ / $(\\frac{N'_b}{N} * B))$\n",
    "\n",
    "> $\\mathcal{L}(N_b, N_S)/\\mathcal{L}(N'_b, N_S=0) = \\frac{N_b}{N'_b} + \\frac{N_s}{N'_b} \\frac{S}{B}$\n",
    "\n",
    "We can now add a simplifying assumption that $N=k$. Since $B$ and $S$ encode\n",
    "probabilities, we end up with $N=N'_b=N_b+N_s$. We can substitute for $N_b$ and $N'_b$, reducing our number of free parameters.\n",
    "\n",
    "> $\\mathcal{L}(N_b, N_S)/\\mathcal{L}(N'_b, N_S=0) = \\frac{N-N_s}{N} + \\frac{N_s}{N-N_s} \\frac{S}{B}$\n",
    "\n",
    "> $\\mathcal{L}(N_S)/\\mathcal{L}(N_S=0) = 1 - \\frac{N_s}{N} + \\frac{N_s}{N} \\frac{S}{B}$\n",
    "\n",
    "> $\\mathcal{L}(N_S)/\\mathcal{L}(N_S=0) = 1 + \\frac{N_s}{N} \\left(\\frac{S}{B}-1\\right)$\n",
    "\n",
    "We typically use the (natural) log of this all to get\n",
    "\n",
    "> $\\Delta ln(\\mathcal{L}) = ln(\\frac{N_s}{N}\\left(\\frac{S}{B}-1\\right) + 1)$\n",
    "\n",
    "This is the standard form of the *likelihood ratio* (often just generally referred to\n",
    "as the \"test statistic\") and is the basis for most fits you'll see doing astronomy in \n",
    "IceCube. Sometimes you'll see an extra factor of 2 floating around in this: this factor\n",
    "does not matter for anything we do, but can make some approximations simpler for people\n",
    "who are too lazy to run enough trials. Ask later if you want to know more.\n",
    "\n",
    "Let's look at an implementation of this all."
   ]
  },
  {
   "cell_type": "code",
   "execution_count": null,
   "metadata": {},
   "outputs": [],
   "source": []
  },
  {
   "cell_type": "markdown",
   "metadata": {},
   "source": [
    "# The background likelihood term B\n",
    "\n",
    "This is the first term we need and luckily it's pretty simple. We will make a \n",
    "histogram of the data values in sin(dec), turning on the `density` property in\n",
    "`np.histogram` so that we get a PDF.\n",
    "\n",
    "Background is assumed to be uniform in RA (see `histogramming.ipynb` for an \n",
    "explanation), so we only need declination for the spatial term of the background."
   ]
  },
  {
   "cell_type": "code",
   "execution_count": 94,
   "metadata": {},
   "outputs": [
    {
     "data": {
      "text/plain": [
       "Text(0, 0.5, 'B')"
      ]
     },
     "execution_count": 94,
     "metadata": {},
     "output_type": "execute_result"
    },
    {
     "data": {
      "image/png": "[encoded data removed]",
      "text/plain": [
       "<Figure size 432x288 with 1 Axes>"
      ]
     },
     "metadata": {
      "needs_background": "light"
     },
     "output_type": "display_data"
    }
   ],
   "source": [
    "# histogram the data to get the bg pdf?\n",
    "fig, ax = plt.subplots()\n",
    "B, B_bins = np.histogram(np.sin(data['dec']), \n",
    "                         bins=100)\n",
    "\n",
    "# Convert this to an estimate of probability density\n",
    "# (so divide by the bin width in solid angle and by \n",
    "# the the number of events)\n",
    "B = B.astype(float) / (np.diff(B_bins) * (2*np.pi) * B.sum())\n",
    "\n",
    "_ = ax.hist(B_bins[:-1],\n",
    "            bins=B_bins,\n",
    "            weights=B,\n",
    "            linewidth=3,\n",
    "            label='Raw data')\n",
    "\n",
    "# We can evaluate it using an interpolate function. Here, I've\n",
    "# wrapped np.interp into a interp_hist function. This function\n",
    "# only works in 1d.\n",
    "newb = np.linspace(B_bins[0], B_bins[-1], 200)\n",
    "interpolated = interp_hist(newb, B, B_bins)\n",
    "ax.plot(newb, interpolated,\n",
    "        linewidth=3,\n",
    "        label='Interpolated',)\n",
    "                  \n",
    "ax.legend()\n",
    "ax.set_xlabel(r\"sin($\\delta$)\")\n",
    "ax.set_ylabel(\"B\")"
   ]
  },
  {
   "cell_type": "code",
   "execution_count": null,
   "metadata": {},
   "outputs": [],
   "source": []
  },
  {
   "cell_type": "code",
   "execution_count": null,
   "metadata": {},
   "outputs": [],
   "source": []
  },
  {
   "cell_type": "markdown",
   "metadata": {},
   "source": [
    "# The signal likelihood term S\n",
    "\n",
    "The signal likelihood is different. Here, we expect the hits to be clustered \n",
    "in both declination and right ascension. Instead of making the signal PDF as\n",
    "an interpolated declination pdf, let's just use a (symmetric 2D) Gaussian.\n",
    "\n",
    "With our simulation, we can calculate the angular distance between the truth\n",
    "and the reconstructed values using a pre-defined `angular_distance` function.\n",
    "We can also grab the reconstructed angular uncertainty, labeled `angErr` in\n",
    "the data and simulation files.\n",
    "\n",
    "Note that the reconstructed angular uncertainty is *not* the same as the distance\n",
    "between the true and reconstruction. Instead, `angErr` gives us what information\n",
    "about the accuracy the reconstruction algorithm itself believes it obtains based\n",
    "on the available hit information. Try to keep these separate in your mind so you\n",
    "can avoid being confused!\n",
    "\n",
    "Once we have the reconstructed direction $\\vec{\\Phi}$ and reconstructed angular \n",
    "uncertainty $\\sigma_i$, we can define the signal spatial likelihood $S_i$ for \n",
    "each event \n",
    "\n",
    ">  $ S_i(\\vec{\\Phi}, \\sigma_i) = \\frac{1}{2 \\pi \\sigma_i^2}\\; exp\\left(-\\frac{1}{2}\\left(\\frac{\\vec{\\Phi}_i}{\\sigma_i}\\right)^2\\right)$"
   ]
  },
  {
   "cell_type": "code",
   "execution_count": 106,
   "metadata": {},
   "outputs": [],
   "source": [
    "def gaussian(phi, sigma):\n",
    "    return 1/(2*np.pi*sigma**2) * np.exp(-0.5 * (phi/sigma)**2)"
   ]
  },
  {
   "cell_type": "code",
   "execution_count": null,
   "metadata": {},
   "outputs": [],
   "source": []
  },
  {
   "cell_type": "code",
   "execution_count": null,
   "metadata": {},
   "outputs": [],
   "source": []
  },
  {
   "cell_type": "markdown",
   "metadata": {},
   "source": [
    "# Building the likelihood\n",
    "\n",
    "Now let's put things together in a function so we can calculate the TS."
   ]
  },
  {
   "cell_type": "code",
   "execution_count": null,
   "metadata": {},
   "outputs": [],
   "source": []
  },
  {
   "cell_type": "code",
   "execution_count": 107,
   "metadata": {},
   "outputs": [],
   "source": [
    "def get_ts(source_ra_radians,\n",
    "           source_dec_radians,\n",
    "           observed, \n",
    "           B, B_bins, \n",
    "           N_s, S, S_bins):\n",
    "    \n",
    "    phi = angular_distance(source_ra_radians, source_dec_radians,\n",
    "                                    observed['ra'], observed['dec'])\n",
    "    observed_S = gaussian(phi, observed['angErr'])\n",
    "    observed_B = interp_hist(np.sin(observed['dec']), B, B_bins)\n",
    "\n",
    "    SoB = observed_S / observed_B\n",
    "    SoB[~np.isfinite(SoB)] = 0\n",
    "        \n",
    "    with np.errstate(divide='ignore'):\n",
    "        ts = np.log(1 + (N_s/len(observed)) * (SoB - 1))\n",
    "        return -ts.sum()\n"
   ]
  },
  {
   "cell_type": "code",
   "execution_count": 108,
   "metadata": {},
   "outputs": [
    {
     "name": "stdout",
     "output_type": "stream",
     "text": [
      "      fun: -16.510078457448948\n",
      " hess_inv: <1x1 LbfgsInvHessProduct with dtype=float64>\n",
      "      jac: array([0.00812364])\n",
      "  message: b'CONVERGENCE: REL_REDUCTION_OF_F_<=_FACTR*EPSMCH'\n",
      "     nfev: 62\n",
      "      nit: 7\n",
      "     njev: 31\n",
      "   status: 0\n",
      "  success: True\n",
      "        x: array([73.96082434])\n"
     ]
    }
   ],
   "source": [
    "# Let's try it.\n",
    "fit_func = lambda params: get_ts(np.radians(source_ra),\n",
    "                                np.radians(source_dec),\n",
    "                                data,\n",
    "                                B=B, B_bins=B_bins,\n",
    "                                N_s=params[0], S=S, S_bins=S_bins)\n",
    "\n",
    "results = minimize(fit_func, \n",
    "                   x0 = [1.0, ],\n",
    "                   bounds = [[0, 1000]])\n",
    "\n",
    "print(results)"
   ]
  },
  {
   "cell_type": "code",
   "execution_count": null,
   "metadata": {},
   "outputs": [],
   "source": []
  },
  {
   "cell_type": "code",
   "execution_count": null,
   "metadata": {},
   "outputs": [],
   "source": []
  },
  {
   "cell_type": "code",
   "execution_count": null,
   "metadata": {},
   "outputs": [],
   "source": []
  }
 ],
 "metadata": {
  "kernelspec": {
   "display_name": "Python 3",
   "language": "python",
   "name": "python3"
  },
  "language_info": {
   "codemirror_mode": {
    "name": "ipython",
    "version": 3
   },
   "file_extension": ".py",
   "mimetype": "text/x-python",
   "name": "python",
   "nbconvert_exporter": "python",
   "pygments_lexer": "ipython3",
   "version": "3.8.6"
  }
 },
 "nbformat": 4,
 "nbformat_minor": 4
}
