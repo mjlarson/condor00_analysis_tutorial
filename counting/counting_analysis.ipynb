{
 "cells": [
  {
   "cell_type": "code",
   "execution_count": null,
   "metadata": {},
   "outputs": [],
   "source": [
    "import os, sys, glob\n",
    "import numpy as np\n",
    "import matplotlib\n",
    "from matplotlib import pyplot as plt\n",
    "\n",
    "from utils import prepare_simulation, prepare_data, angular_distance"
   ]
  },
  {
   "cell_type": "code",
   "execution_count": null,
   "metadata": {},
   "outputs": [],
   "source": [
    "source_ra = 77.358 # degrees\n",
    "source_dec = 5.693 # degrees"
   ]
  },
  {
   "cell_type": "code",
   "execution_count": null,
   "metadata": {},
   "outputs": [],
   "source": [
    "# Load the data\n",
    "data = prepare_data()"
   ]
  },
  {
   "cell_type": "code",
   "execution_count": null,
   "metadata": {},
   "outputs": [],
   "source": []
  },
  {
   "cell_type": "markdown",
   "metadata": {},
   "source": [
    "# How do we count?\n",
    "\n",
    "We need to define some way of \"counting\" events. Let's do something simple and ask \n",
    "how many events are within 3 degrees of our source. We can do that using the \n",
    "`angular_distance` function (defined in utils.py)."
   ]
  },
  {
   "cell_type": "code",
   "execution_count": null,
   "metadata": {},
   "outputs": [],
   "source": [
    "# First, calculate the distance to our hypothesized source for \n",
    "# ALL of the data events\n",
    "phi = angular_distance(np.radians(source_ra), \n",
    "                       np.radians(source_dec),\n",
    "                       data['ra'], \n",
    "                       data['dec'])\n",
    "\n",
    "fig, ax = plt.subplots()\n",
    "_ = ax.hist(np.degrees(phi),\n",
    "            bins=100)\n",
    "\n",
    "ax.set_xlabel(\"Distance to source (Degrees)\")\n",
    "ax.set_ylabel(\"Number of events observed in data\")"
   ]
  },
  {
   "cell_type": "code",
   "execution_count": null,
   "metadata": {},
   "outputs": [],
   "source": [
    "# And now apply a \"cut\" or mask that removes events too far\n",
    "# away for us to care.\n",
    "maximum_distance = 3 # degrees\n",
    "mask = (np.degrees(phi) < maximum_distance)\n",
    "\n",
    "fig, ax = plt.subplots()\n",
    "_ = ax.hist(np.degrees(phi[mask]),\n",
    "            bins=50)\n",
    "\n",
    "ax.set_xlabel(\"Distance to source (Degrees)\")\n",
    "ax.set_ylabel(\"Number of events observed in data\")"
   ]
  },
  {
   "cell_type": "code",
   "execution_count": null,
   "metadata": {},
   "outputs": [],
   "source": [
    "# How many events have we found?\n",
    "print(f\"Found {mask.sum()} events within {maximum_distance} degrees of our source.\")"
   ]
  },
  {
   "cell_type": "code",
   "execution_count": null,
   "metadata": {},
   "outputs": [],
   "source": []
  },
  {
   "cell_type": "markdown",
   "metadata": {},
   "source": [
    "# Did we find anything?\n",
    "\n",
    "Well... It's really hard to tell from just one number. We don't know how many \n",
    "events we were *expecting* to see. To find that, we need to be able to generate\n",
    "some form of expectation. Let's talk about how to do that.\n",
    "\n",
    "First, we assume that our dataset is background-dominated. This is likely true: \n",
    "we see about 100,000 events/year while expecting << 1000 astrophysical neutrino \n",
    "events per year.\n",
    "\n",
    "We also assume the background (atmospheric muons) are time-independent. This is \n",
    "not exactly true (rates vary by ~10% over a year), but it's pretty close. \n",
    "\n",
    "The right ascension (RA) values are calculated using a combination of the observed\n",
    "azimuth of events crossing the detector and the time at which they were observed.\n",
    "If we assume that the background is time-independent, then this converts to an \n",
    "assumption that the background events are uniformly distributed in RA. \n",
    "\n",
    "We can take advantage of our background-dominated and RA-uniformity assumptions\n",
    "by redoing the calculation with randomized RA values. Let's try that."
   ]
  },
  {
   "cell_type": "code",
   "execution_count": null,
   "metadata": {},
   "outputs": [],
   "source": [
    "# And now apply a \"cut\" or mask that removes events too far\n",
    "# away for us to care.\n",
    "\n",
    "bg_phi = angular_distance(np.radians(source_ra), \n",
    "                           np.radians(source_dec),\n",
    "                           np.random.uniform(0, 2*np.pi, len(data)),\n",
    "                           data['dec'])\n",
    "\n",
    "bg_mask = (np.degrees(bg_phi) < maximum_distance)\n",
    "\n",
    "fig, ax = plt.subplots()\n",
    "_ = ax.hist(np.degrees(bg_phi[bg_mask]),\n",
    "            bins=50)\n",
    "\n",
    "ax.set_xlabel(\"Distance to source (Degrees)\")\n",
    "ax.set_ylabel(\"Number of events observed in data\")"
   ]
  },
  {
   "cell_type": "code",
   "execution_count": null,
   "metadata": {},
   "outputs": [],
   "source": [
    "print(f\"Found {bg_mask.sum()} events within {maximum_distance} degrees of our source.\")"
   ]
  },
  {
   "cell_type": "code",
   "execution_count": null,
   "metadata": {},
   "outputs": [],
   "source": []
  },
  {
   "cell_type": "markdown",
   "metadata": {},
   "source": [
    "# Take a look at the output numbers\n",
    "\n",
    "This only gives us two points to compare! Each time we run this, we'll get a different\n",
    "number of background events. Instead of trying to compare our data to one randomization\n",
    "at a time, let's do it many times and build up a distribution."
   ]
  },
  {
   "cell_type": "code",
   "execution_count": null,
   "metadata": {},
   "outputs": [],
   "source": [
    "def get_distribution(n_trials,\n",
    "                     source_ra,\n",
    "                     source_dec,\n",
    "                     max_distance,\n",
    "                    data):\n",
    "    output = np.zeros(n_trials)\n",
    "    for i in tqdm(range(n_trials)):\n",
    "        bg_phi = angular_distance(np.radians(source_ra), \n",
    "                               np.radians(source_dec),\n",
    "                               np.random.uniform(0, 2*np.pi, len(data)),\n",
    "                               data['dec'])\n",
    "\n",
    "        bg_mask = (np.degrees(bg_phi) < maximum_distance)\n",
    "        output[i] = bg_mask.sum()\n",
    "        \n",
    "    return"
   ]
  },
  {
   "cell_type": "code",
   "execution_count": null,
   "metadata": {},
   "outputs": [],
   "source": []
  },
  {
   "cell_type": "markdown",
   "metadata": {},
   "source": []
  },
  {
   "cell_type": "code",
   "execution_count": null,
   "metadata": {},
   "outputs": [],
   "source": []
  },
  {
   "cell_type": "code",
   "execution_count": null,
   "metadata": {},
   "outputs": [],
   "source": []
  }
 ],
 "metadata": {
  "kernelspec": {
   "display_name": "Python 3",
   "language": "python",
   "name": "python3"
  },
  "language_info": {
   "codemirror_mode": {
    "name": "ipython",
    "version": 3
   },
   "file_extension": ".py",
   "mimetype": "text/x-python",
   "name": "python",
   "nbconvert_exporter": "python",
   "pygments_lexer": "ipython3",
   "version": "3.8.6"
  }
 },
 "nbformat": 4,
 "nbformat_minor": 4
}
